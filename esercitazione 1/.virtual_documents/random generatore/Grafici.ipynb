import numpy as np
import matplotlib.pyplot as plt
import os    
os.environ['KMP_DUPLICATE_LIB_OK'] = 'True'


#estraggo deviazione std e media dal file
mean=np.loadtxt("data.txt", usecols=0)
std=np.loadtxt("data.txt", usecols=1)


N=1000 #1000 blocchi
x = np.arange(N)+1 #vettore con cifre da 1 a 1000     
plt.errorbar(x,mean-0.5,yerr=std)
plt.xlabel('#blocks')
plt.ylabel('<r>-1/2')
plt.grid(True)
plt.show()



