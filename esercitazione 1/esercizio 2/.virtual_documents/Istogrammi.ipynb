import matplotlib.pyplot as plt
import os    
import numpy as np
os.environ['KMP_DUPLICATE_LIB_OK'] = 'True'


nThrows=np.array([1,2,10,100])
vUnif=np.zeros(int(1E4));
fig, ax = plt.subplots(1,4, figsize=(20, 5)) #righe,colonne,dimesioni figura(orizzontale e verticale)
bins = np.linspace(0, 1, num=25)
for i in range(4):
    filename="dataUniform"+str(nThrows[i])+".txt"
    vUnif=np.loadtxt(filename)
    ax[i].hist(
        vUnif,
        bins=bins,
        density=True
    );

    ax[i].set_title("S$_{N}$ - N="+str(nThrows[i])+" - Uniform distribution")
    ax[i].set_xlabel("bins")
    ax[i].set_ylabel("S$_{N}$")




fig, ax = plt.subplots(1,4, figsize=(20, 5)) #righe,colonne,dimesioni figura(orizzontale e verticale)
bins = np.linspace(0, 1, num=25)
for i in range(4):
    filename="dataExponential"+str(nThrows[i])+".txt"
    vUnif=np.loadtxt(filename)
    ax[i].hist(
        vUnif,
        bins=bins,
        density=True
    );

    ax[i].set_title("S$_{N}$ - N="+str(nThrows[i])+" - Exponential distribution")
    ax[i].set_xlabel("bins")
    ax[i].set_ylabel("S$_{N}$")



fig, ax = plt.subplots(1,4, figsize=(20, 5)) #righe,colonne,dimesioni figura(orizzontale e verticale)
bins = np.linspace(0, 1, num=25)
for i in range(4):
    filename="dataCL"+str(nThrows[i])+".txt"
    vUnif=np.loadtxt(filename)
    ax[i].hist(
        vUnif,
        bins=bins,
        density=True
    );

    ax[i].set_title("S$_{N}$ - N="+str(nThrows[i])+" - Cauchy-Lorentz distribution")
    ax[i].set_xlabel("bins")
    ax[i].set_ylabel("S$_{N}$")



