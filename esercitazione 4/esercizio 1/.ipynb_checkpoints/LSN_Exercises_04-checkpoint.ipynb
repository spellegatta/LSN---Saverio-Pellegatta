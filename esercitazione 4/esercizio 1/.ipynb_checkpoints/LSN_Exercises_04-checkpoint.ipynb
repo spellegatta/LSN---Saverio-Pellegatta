{
 "cells": [
  {
   "cell_type": "markdown",
   "metadata": {},
   "source": [
    "# <span style=\"color:green\"> Numerical Simulation Laboratory (NSL) </span>\n",
    "## <span style=\"color:blue\">  Numerical exercises 4</span>"
   ]
  },
  {
   "cell_type": "markdown",
   "metadata": {},
   "source": [
    "### Exercise 04.1\n",
    "\n",
    "In Statistical Mechanics the Maxwell–Boltzmann distribution (<a href=\"https://en.wikipedia.org/wiki/Maxwell%E2%80%93Boltzmann_distribution\" target=\"_blank\">Link Wikipedia</a>) is a probability distribution used for describing particle speeds in idealized gases. However, rarefied gases at ordinary temperatures behave very nearly like an ideal gas and the Maxwell–Boltzmann speed distribution is an excellent approximation for such gases. For a 3D system its formula is:\n",
    "$$p(v,T) = \\left( \\frac{m}{2\\pi k_B T} \\right)^{3/2} 4\\pi v^2 e^{-\\frac{m v^2}{2 k_B T}}$$\n",
    "\n",
    "By using LJ reduced units (Lenght: $\\sigma$; Energy: $\\epsilon$; Mass: the mass, $m$, of the particles; Temperature: $\\epsilon/k_B$; velocity: $\\sqrt{\\epsilon/m}$) its form becomes:\n",
    "$$p(v^*,T^*) = \\frac{1}{(2\\pi T^*)^{3/2}} 4\\pi (v^*)^2 e^{-\\frac{(v^*)^2}{2 T^*}}$$\n",
    "\n",
    "The NSL_SIMULATOR code already computes the total (internal) energy per particle, $E/N$, the potential energy per particle, $U/N$, the kinetic energy per particle, $K/N$, the temperature, $T$, and the pressure, $P$.\n",
    "\n",
    "<span style=\"color:red\">Include the calculation of the Maxwell–Boltzmann distribution, $p(v^*,T^*)$, inside your Molecular Dynamics code by using data blocking to obtain single block averages, progressive average values and progressive uncertainties for $p(v^*,T^*)$.</span>\n",
    "\n",
    "Remember that, the Maxwell–Boltzmann distribution, $p(v^*,T^*)$, can be approximately computed as a **normalized histogram** on an appropriate interval $\\left[ 0, v_{max}\\right]$ and chosing the number of bins into which you want to divide this interval."
   ]
  },
  {
   "cell_type": "markdown",
   "metadata": {},
   "source": [
    "### Exercise 04.2\n",
    "\n",
    "By means of your upgraded code, <span style=\"color:red\">perform MD simulations via a Lennard-Jones model</span> ( e.g. Argon parameters: $\\sigma = 0.34$ nm, $\\epsilon/k_B = 120$ K, $m=39.948$ amu) in the following conditions:\n",
    "- gas phase: $\\rho^\\star = 0.05$, $T^\\star \\sim  2.0$ (cut-off radius: $r_c = 5.0$)\n",
    "\n",
    "starting from a <span style=\"color:red\">**very low entropic** initial configuration</span>:\n",
    "1. initial **particle positions**: <span style=\"color:red\">fcc crystal occupying half of the simulation box in each dimension</span>\n",
    "2. initial **velocity distribution**: <span style=\"color:red\">$p_\\delta(v^*,T^*) = \\delta\\left( v^* - v_{T^*}\\right)$</span> where $v_{T^*}$ is suitably connected to $T^*$. For example, this condition could be obtained by imposing that every particle has an initial velocity $\\pm v_{T^*}$ for **only one** of its velocity components: $v_x$, $v_y$, $v_z$.\n",
    "\n",
    "The goal is to show that, by evolving such initial condition via a Molecular Dynamics simulation, the velocity distribution tends to approximate the Maxwell–Boltzmann distribution.\n",
    "\n",
    "- **Produce some pictures that show this convergence**\n",
    "- The evolution of the system moves towards the increasing of entropy (more homeogeneous configuration of particles)? What would you find by changing the direction of time? Comment on these aspects in your jupyter-notebook\n",
    "\n",
    "**Note that** the MD simulation will conserve the total energy; thus the kinetic energy and the temperature are not constant of motion ... the comparison should be done with $p(v^*,T^*_{\\rm eff})$ where $T^*_{\\rm eff}$ is the effective temperature obtained once the system has been equilibrated."
   ]
  },
  {
   "cell_type": "markdown",
   "metadata": {},
   "source": [
    "### Exercise 04.3\n",
    "\n",
    "Starting from the final state of an **equilibrated** MD simulation of the system in Exercise 04.2, by changing the direction of time (e.g. by inverting the final velocities, i.e. ... ), try to return back to the very low entropic initial configuration of Exercise 04.2. Is this possible? (for example, one can monitor the behavior of the average **potential energy** and the average **temperature** in **each block** as a function of time going **in both directions**. Show some picture and comment on what you find in your jupyter-notebook."
   ]
  }
 ],
 "metadata": {
  "kernelspec": {
   "display_name": "Python 3 (ipykernel)",
   "language": "python",
   "name": "python3"
  },
  "language_info": {
   "codemirror_mode": {
    "name": "ipython",
    "version": 3
   },
   "file_extension": ".py",
   "mimetype": "text/x-python",
   "name": "python",
   "nbconvert_exporter": "python",
   "pygments_lexer": "ipython3",
   "version": "3.9.13"
  }
 },
 "nbformat": 4,
 "nbformat_minor": 2
}
